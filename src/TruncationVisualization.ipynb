{
  "nbformat": 4,
  "nbformat_minor": 0,
  "metadata": {
    "colab": {
      "provenance": [],
      "collapsed_sections": [
        "Spf49KsqRack",
        "ivDShGXcRfqw",
        "HYNVjZ5ijgNB"
      ]
    },
    "kernelspec": {
      "name": "python3",
      "display_name": "Python 3"
    },
    "language_info": {
      "name": "python"
    }
  },
  "cells": [
    {
      "cell_type": "markdown",
      "source": [
        "# Truncation Sampling Visualization Colab\n",
        "\n",
        "This notebook provides a quick way to visualize how a few truncation sampling algorithms ([top-p](https://arxiv.org/abs/1904.09751), [eta-sampling](https://arxiv.org/abs/2210.15191)) modify the distribution provided by a language model.\n",
        "\n",
        "Truncation sampling decides at each conditional distribution which words to \"allow\" and which words to \"truncate\" (set to 0 probability.) Such methods are widely used heuristics in natural language generation, and are often evaluated at the sequence level (do I tend to generate a diverse distribution over well-formed sequences?) But **the word-level truncation decisions can often be unintuitive or undesirable, and they decide what is allowed to be generated.** This colab is intended to give a quick way to explore these decisions.\n",
        "\n",
        "You specify a natural language string (and optionally change the model or truncation hyperparameters), and you get a plot that shows:\n",
        "\n",
        " - The shape of the conditional distribution over the last word.\n",
        " - A few of the most likely words under the model\n",
        " - The truncation thresholds (where each truncation algorithm sets remaining probabilities to 0.)\n",
        " - A few of the  **least** likely words allowed (not truncated) by each truncation algorithm.\n",
        "\n",
        "There are myriad known biases and problems with the default model used here, `gpt2`. This codebase is intended to help in the characterization of the failures of these models; it can generate offensive text.\n",
        "\n",
        " If this colab is useful to you, you can find out more in the paper \n",
        " \n",
        " - John Hewitt, Christopher D. Manning, Percy Liang. [_Truncation Sampling as Language Model Desmoothing_](https://arxiv.org/abs/2210.15191) (EMNLP Findings 2022).\n",
        " - Github: https://github.com/john-hewitt/truncation-sampling\n"
      ],
      "metadata": {
        "id": "0PCY18vAdbE0"
      }
    },
    {
      "cell_type": "markdown",
      "source": [
        "### Installation of Prereqs"
      ],
      "metadata": {
        "id": "Spf49KsqRack"
      }
    },
    {
      "cell_type": "code",
      "source": [
        "!pip install transformers\n",
        "!pip install torch"
      ],
      "metadata": {
        "colab": {
          "base_uri": "https://localhost:8080/"
        },
        "id": "9KWh0x0dNBjU",
        "outputId": "c0e20234-30e7-4d0e-cd1d-edb256113cd5"
      },
      "execution_count": 1,
      "outputs": [
        {
          "output_type": "stream",
          "name": "stdout",
          "text": [
            "Looking in indexes: https://pypi.org/simple, https://us-python.pkg.dev/colab-wheels/public/simple/\n",
            "Requirement already satisfied: transformers in /usr/local/lib/python3.8/dist-packages (4.25.1)\n",
            "Requirement already satisfied: numpy>=1.17 in /usr/local/lib/python3.8/dist-packages (from transformers) (1.21.6)\n",
            "Requirement already satisfied: requests in /usr/local/lib/python3.8/dist-packages (from transformers) (2.23.0)\n",
            "Requirement already satisfied: huggingface-hub<1.0,>=0.10.0 in /usr/local/lib/python3.8/dist-packages (from transformers) (0.11.1)\n",
            "Requirement already satisfied: tokenizers!=0.11.3,<0.14,>=0.11.1 in /usr/local/lib/python3.8/dist-packages (from transformers) (0.13.2)\n",
            "Requirement already satisfied: regex!=2019.12.17 in /usr/local/lib/python3.8/dist-packages (from transformers) (2022.6.2)\n",
            "Requirement already satisfied: pyyaml>=5.1 in /usr/local/lib/python3.8/dist-packages (from transformers) (6.0)\n",
            "Requirement already satisfied: filelock in /usr/local/lib/python3.8/dist-packages (from transformers) (3.8.0)\n",
            "Requirement already satisfied: tqdm>=4.27 in /usr/local/lib/python3.8/dist-packages (from transformers) (4.64.1)\n",
            "Requirement already satisfied: packaging>=20.0 in /usr/local/lib/python3.8/dist-packages (from transformers) (21.3)\n",
            "Requirement already satisfied: typing-extensions>=3.7.4.3 in /usr/local/lib/python3.8/dist-packages (from huggingface-hub<1.0,>=0.10.0->transformers) (4.1.1)\n",
            "Requirement already satisfied: pyparsing!=3.0.5,>=2.0.2 in /usr/local/lib/python3.8/dist-packages (from packaging>=20.0->transformers) (3.0.9)\n",
            "Requirement already satisfied: certifi>=2017.4.17 in /usr/local/lib/python3.8/dist-packages (from requests->transformers) (2022.9.24)\n",
            "Requirement already satisfied: idna<3,>=2.5 in /usr/local/lib/python3.8/dist-packages (from requests->transformers) (2.10)\n",
            "Requirement already satisfied: urllib3!=1.25.0,!=1.25.1,<1.26,>=1.21.1 in /usr/local/lib/python3.8/dist-packages (from requests->transformers) (1.24.3)\n",
            "Requirement already satisfied: chardet<4,>=3.0.2 in /usr/local/lib/python3.8/dist-packages (from requests->transformers) (3.0.4)\n",
            "Looking in indexes: https://pypi.org/simple, https://us-python.pkg.dev/colab-wheels/public/simple/\n",
            "Requirement already satisfied: torch in /usr/local/lib/python3.8/dist-packages (1.12.1+cu113)\n",
            "Requirement already satisfied: typing-extensions in /usr/local/lib/python3.8/dist-packages (from torch) (4.1.1)\n"
          ]
        }
      ]
    },
    {
      "cell_type": "code",
      "execution_count": 2,
      "metadata": {
        "id": "MFriha2RM0oq"
      },
      "outputs": [],
      "source": [
        "import transformers\n",
        "import torch\n",
        "import matplotlib.pyplot as plt\n",
        "import seaborn as sns\n",
        "\n",
        "colors = sns.color_palette(n_colors=5)\n",
        "in_c, out_c, p_c, e_c, h_c = colors\n",
        "\n",
        "import argparse\n",
        "import urllib\n",
        "import json\n",
        "import random\n",
        "\n",
        "from tqdm import tqdm\n",
        "import math"
      ]
    },
    {
      "cell_type": "markdown",
      "source": [
        "### Utility Code\n",
        "\n",
        "- Includes code for top-p, epsilon, eta-sampling.\n",
        "- Includes plotting code."
      ],
      "metadata": {
        "id": "ivDShGXcRfqw"
      }
    },
    {
      "cell_type": "code",
      "source": [
        "import torch\n",
        "import transformers\n",
        "import random\n",
        "\n",
        "device = 'cuda'\n",
        "\n",
        "class TypicalLogitsWarper(transformers.LogitsWarper):\n",
        "    \"\"\"\n",
        "    Code largely taken from https://github.com/cimeister/typical-sampling\n",
        "    \"\"\"\n",
        "    def __init__(self, mass: float = 0.9, filter_value: float = -float(\"Inf\"), min_tokens_to_keep: int = 1):\n",
        "\n",
        "        self.filter_value = filter_value\n",
        "        self.mass = mass\n",
        "        self.min_tokens_to_keep = min_tokens_to_keep\n",
        "\n",
        "    def __call__(self, input_ids: torch.LongTensor, scores: torch.FloatTensor) -> torch.FloatTensor:\n",
        "\n",
        "        # calculate entropy\n",
        "        normalized = torch.nn.functional.log_softmax(scores, dim=-1)\n",
        "        p = torch.exp(normalized)\n",
        "        ent = -(normalized * p).nansum(-1, keepdim=True)\n",
        "\n",
        "        # shift and sort\n",
        "        shifted_scores = torch.abs((-normalized) - ent)\n",
        "        sorted_scores, sorted_indices = torch.sort(shifted_scores, descending=False)\n",
        "        sorted_logits = scores.gather(-1, sorted_indices)\n",
        "        cumulative_probs = sorted_logits.softmax(dim=-1).cumsum(dim=-1)\n",
        "\n",
        "        # Remove tokens with cumulative mass above the threshold\n",
        "        last_ind = (cumulative_probs < self.mass).sum(dim=1)\n",
        "        last_ind[last_ind < 0] = 0\n",
        "        sorted_indices_to_remove = sorted_scores > sorted_scores.gather(1, last_ind.view(-1, 1))\n",
        "        if self.min_tokens_to_keep > 1:\n",
        "            # Keep at least min_tokens_to_keep (set to min_tokens_to_keep-1 because we add the first one below)\n",
        "            sorted_indices_to_remove[..., : self.min_tokens_to_keep] = 0\n",
        "        indices_to_remove = sorted_indices_to_remove.scatter(1, sorted_indices, sorted_indices_to_remove)\n",
        "\n",
        "        scores = scores.masked_fill(indices_to_remove, self.filter_value)\n",
        "        return scores\n",
        "\n",
        "class TopPLogitsWarper(transformers.LogitsWarper):\n",
        "  \"\"\"\n",
        "  [`LogitsWarper`] that performs top-p, i.e. restricting to top tokens summing to prob_cut_off <= prob_cut_off.\n",
        "  Args:\n",
        "      top_p (`float`):\n",
        "          If set to < 1, only the most probable tokens with probabilities that add up to `top_p` or higher are kept\n",
        "          for generation.\n",
        "      filter_value (`float`, *optional*, defaults to `-float(\"Inf\")`):\n",
        "          All filtered values will be set to this float value.\n",
        "      min_tokens_to_keep (`int`, *optional*, defaults to 1):\n",
        "          Minimum number of tokens that cannot be filtered.\n",
        "  \"\"\"\n",
        "\n",
        "  def __init__(self, top_p: float, filter_value: float = -float(\"Inf\"), min_tokens_to_keep: int = 1):\n",
        "    top_p = float(top_p)\n",
        "    if top_p < 0 or top_p > 1.0:\n",
        "      raise ValueError(f\"`top_p` has to be a float > 0 and < 1, but is {top_p}\")\n",
        "\n",
        "    self.top_p = top_p\n",
        "    self.filter_value = filter_value\n",
        "    self.min_tokens_to_keep = min_tokens_to_keep\n",
        "\n",
        "  def __call__(self, input_ids: torch.LongTensor, scores: torch.FloatTensor) -> torch.FloatTensor:\n",
        "    sorted_logits, sorted_indices = torch.sort(scores, descending=True)\n",
        "    cumulative_probs = sorted_logits.softmax(dim=-1).cumsum(dim=-1)\n",
        "\n",
        "    # Remove tokens with cumulative top_p above the threshold (token with 0 are kept)\n",
        "    sorted_indices_to_remove = cumulative_probs > self.top_p\n",
        "    if self.min_tokens_to_keep > 1:\n",
        "      # Keep at least min_tokens_to_keep (set to min_tokens_to_keep-1 because we add the first one below)\n",
        "      sorted_indices_to_remove[..., : self.min_tokens_to_keep - 1] = 0\n",
        "    # Shift the indices to the right to keep also the first token above the threshold\n",
        "    sorted_indices_to_remove[..., 1:] = sorted_indices_to_remove[..., :-1].clone()\n",
        "    sorted_indices_to_remove[..., 0] = 0\n",
        "\n",
        "    # scatter sorted tensors to original indexing\n",
        "    indices_to_remove = sorted_indices_to_remove.scatter(1, sorted_indices, sorted_indices_to_remove)\n",
        "    scores = scores.masked_fill(indices_to_remove, self.filter_value)\n",
        "    return scores\n",
        "\n",
        "  def determine_divergence(self, scores, chosen_word):\n",
        "    \"\"\"\n",
        "    Determines the extent to which a word violates the truncation threshold of this warper.\n",
        "    Values above 0 indicate that the word would be disallowed (i.e., assigned zero probability) under this truncation method.\n",
        "    Arguments:\n",
        "        scores: Tensor of size (1, vocab_size)\n",
        "        chosen_word: int\n",
        "    Returns:\n",
        "        how far past the top-p the word _before_ this in the sorted vocab is\n",
        "        i.e., if the word _before_ this already accounted for p probability,\n",
        "        the top-p truncation would have stopped there.\n",
        "    \"\"\"\n",
        "    #import pdb; pdb.set_trace()\n",
        "    sorted_logits, sorted_indices = torch.sort(scores, descending=True)\n",
        "    cumulative_probs = sorted_logits.softmax(dim=-1).cumsum(dim=-1)\n",
        "    index = (sorted_indices == chosen_word).nonzero(as_tuple=True)[1]\n",
        "    cum_pr = cumulative_probs[0,index]\n",
        "    pr = cumulative_probs[0,index] - (cumulative_probs[0,index-1] if index > 1 else 0)\n",
        "    return max(cum_pr-pr-self.top_p, 0)\n",
        "\n",
        "class EtaWarper(transformers.LogitsWarper):\n",
        "  \"\"\"Our proposed eta sampling warper.\"\"\"\n",
        "  def __init__(self, epsilon):\n",
        "    self.epsilon = epsilon\n",
        "    self.filter_value = -float(\"Inf\")\n",
        "\n",
        "  def __call__(self, input_ids, scores) -> torch.FloatTensor:\n",
        "    probabilities = scores.softmax(dim=-1)\n",
        "    entropy = torch.distributions.Categorical(probs=(scores).softmax(dim=-1)).entropy()\n",
        "    epsilon = min(self.epsilon, torch.sqrt(torch.tensor(self.epsilon))*torch.exp(-entropy))\n",
        "    indices_to_remove = probabilities < epsilon\n",
        "    max_word = torch.argmax(scores,dim=-1)\n",
        "    indices_to_remove[...,max_word.squeeze()] = 0\n",
        "    new_scores = scores.masked_fill(indices_to_remove, self.filter_value)\n",
        "    return new_scores\n",
        "\n",
        "class EntropyWarper(transformers.LogitsWarper):\n",
        "  \"\"\"Same as EtaWarper; here for historical reasons.\"\"\"\n",
        "  def __init__(self, epsilon):\n",
        "    self.epsilon = epsilon\n",
        "    self.filter_value = -float(\"Inf\")\n",
        "\n",
        "  def __call__(self, input_ids, scores, return_epsilon=False) -> torch.FloatTensor:\n",
        "    probabilities = scores.softmax(dim=-1)\n",
        "    entropy = torch.distributions.Categorical(probs=(scores).softmax(dim=-1)).entropy()\n",
        "    epsilon = min(self.epsilon, torch.sqrt(torch.tensor(self.epsilon))*torch.exp(-entropy))\n",
        "    indices_to_remove = probabilities < epsilon\n",
        "    max_word = torch.argmax(scores,dim=-1)\n",
        "    indices_to_remove[...,max_word.squeeze()] = 0\n",
        "    new_scores = scores.masked_fill(indices_to_remove, self.filter_value)\n",
        "    if return_epsilon:\n",
        "      return new_scores, torch.tensor(epsilon)\n",
        "    else:\n",
        "      return new_scores\n",
        "\n",
        "class EpsilonWarper(transformers.LogitsWarper):\n",
        "  \"\"\"\n",
        "  [`LogitsWarper`] that performs epsilon, i.e. restricting to tokens with absolute prob > prob_cut_off.\n",
        "  Takes single argmax token if no tokens satisfy this constraint.\n",
        "  Args:\n",
        "      epsilon (`float`):\n",
        "          If set to > 0, only the most tokens with probabilities `epsilon` or higher are kept for generation.\n",
        "      filter_value (`float`, *optional*, defaults to `-float(\"Inf\")`):\n",
        "          All filtered values will be set to this float value.\n",
        "  \"\"\"\n",
        "  def __init__(self, epsilon):\n",
        "    self.epsilon = epsilon\n",
        "    self.filter_value = -float(\"Inf\")\n",
        "\n",
        "  def __call__(self, input_ids: torch.LongTensor, scores: torch.FloatTensor) -> torch.FloatTensor:\n",
        "    probabilities = scores.softmax(dim=-1)\n",
        "    indices_to_remove = probabilities < self.epsilon\n",
        "    max_word = torch.argmax(scores,dim=-1)\n",
        "    indices_to_remove[...,max_word.squeeze()] = 0\n",
        "    new_scores = scores.masked_fill(indices_to_remove, self.filter_value)\n",
        "    return new_scores\n",
        "\n",
        "  def determine_divergence(self, scores, chosen_word):\n",
        "    \"\"\"\n",
        "    Determines the extent to which a word violates the truncation threshold of this warper.\n",
        "    Values above 0 indicate that the word would be disallowed (i.e., assigned zero probability) under this truncation method.\n",
        "    Arguments:\n",
        "        scores: Tensor of size (1, vocab_size)\n",
        "        chosen_word: int\n",
        "    Returns:\n",
        "        how much less probability than (1-lmbda)*p_smoothing(chosen_word) \n",
        "        was assigned by this distribution to chosen_word; i.e., how much\n",
        "        less likely it is than it would have needed to be if it were not\n",
        "        to be truncated.\n",
        "    \"\"\"\n",
        "    probabilities = scores.softmax(dim=-1)\n",
        "    divergences = probabilities - self.epsilon\n",
        "    return max(0, -divergences[0, chosen_word])"
      ],
      "metadata": {
        "id": "2X3sDxSURtp-"
      },
      "execution_count": 3,
      "outputs": []
    },
    {
      "cell_type": "code",
      "source": [
        "font = {\n",
        "        'weight': 'normal',\n",
        "        'size': 16,\n",
        "        }\n",
        "\n",
        "def plot(gold_indices, topp_warper, epsilon_warper, eta_warper, entropy, probs, logits):\n",
        "  unwarped_probs = logits.softmax(dim=-1)\n",
        "  eta_warped_probs, effective_eps = eta_warper(None, logits, return_epsilon=True)\n",
        "  effective_eps = effective_eps.cpu().item()\n",
        "  topp_warped_probs = topp_warper(None, logits)\n",
        "  epsilon_warped_probs = epsilon_warper(None, logits)\n",
        "  eta_cutoff_index = torch.sum(torch.logical_not(eta_warped_probs.isinf())).cpu().item()\n",
        "  epsilon_cutoff_index = torch.sum(torch.logical_not(epsilon_warped_probs.isinf())).cpu().item()\n",
        "  topp_cutoff_index = torch.sum(torch.logical_not(topp_warped_probs.isinf())).cpu().item()\n",
        "\n",
        "  eta_tokens = []\n",
        "  epsilon_tokens = []\n",
        "  topp_tokens = []\n",
        "  most_likely = []\n",
        "  for index, word_id in enumerate(sorted(range(50256), key=lambda x:-unwarped_probs[0][x])): #range(50256):\n",
        "    eta_accepted = not(bool(eta_warped_probs.reshape(-1)[word_id].isinf()))\n",
        "    topp_accepted = not(bool(topp_warped_probs.reshape(-1)[word_id].isinf()))\n",
        "    if index < 10:\n",
        "      most_likely.append(word_id)\n",
        "    if (index+1) > (eta_cutoff_index - 10) and (index+1) <= eta_cutoff_index:\n",
        "      eta_tokens.append(word_id)\n",
        "    if (index+1) > (topp_cutoff_index - 10) and (index+1) <= topp_cutoff_index:\n",
        "      topp_tokens.append(word_id)\n",
        "\n",
        "  plt.clf()\n",
        "  plt.figure(figsize=(6.4, 3.2))\n",
        "  y, _ = torch.sort(probs.reshape(-1).cpu(), descending=True)\n",
        "  x = list(range(1, len(y)+1))\n",
        "  cutoff = int(max(eta_cutoff_index, topp_cutoff_index, epsilon_cutoff_index)*1.2)\n",
        "  x = x[:cutoff]\n",
        "  y = y[:cutoff]\n",
        "  ymin =0\n",
        "  ymax=1\n",
        "  plt.text(0, min(y).item()*0.01, '~Most Likely~\\n'+'\\n'.join(map(lambda x: tokenizer.decode(x).replace('\\n', '\\\\n'), most_likely[:5])), verticalalignment='top', horizontalalignment='center', fontdict=font)\n",
        "  plt.text(topp_cutoff_index+.5, min(y).item()*0.00005, '~topp~\\n'+'\\n'.join(map(lambda x: tokenizer.decode(x).replace('\\n', '\\\\n'), topp_tokens[:5])), verticalalignment='top', horizontalalignment='center', fontdict=font)\n",
        "  plt.text(eta_cutoff_index+.5, min(y).item()*0.0000005, '~eta~\\n'+'\\n'.join(map(lambda x: tokenizer.decode(x).replace('\\n', '\\\\n'), eta_tokens[:5])), verticalalignment='top', horizontalalignment='center', fontdict=font)\n",
        "\n",
        "\n",
        "  plt.yscale('log')\n",
        "  plt.bar(x=x, height=y, width=1)\n",
        "  plt.xlabel('Rank of probability of word',fontdict=font)\n",
        "  plt.ylabel('Probability of word',fontdict=font)\n",
        "\n",
        "  plt.axvline(x=topp_cutoff_index+.5, ymin=ymin, ymax=ymax, linestyle='--',linewidth=3, color=p_c, label='top-p cutoff')\n",
        "  plt.axvline(x=eta_cutoff_index+.5, ymin=ymin, ymax=ymax, linestyle='--',linewidth=3, color=h_c, label='eta cutoff')\n",
        "  plt.axvline(x=epsilon_cutoff_index+.5, ymin=ymin, ymax=ymax, linestyle='--',linewidth=3, color=e_c, label='epsilon cutoff')\n",
        "  plt.legend(fontsize=16)\n",
        "  \n",
        "  plt.tight_layout()\n",
        "  plt.savefig('truncation.png', dpi=200)"
      ],
      "metadata": {
        "id": "iUVaJurnTKh2"
      },
      "execution_count": 4,
      "outputs": []
    },
    {
      "cell_type": "markdown",
      "source": [
        "# Playing with truncation\n",
        "\n"
      ],
      "metadata": {
        "id": "QML2jVdURjW5"
      }
    },
    {
      "cell_type": "markdown",
      "source": [
        "### Change these if you want!\n",
        "Truncation sampling hyperparameters, model choice."
      ],
      "metadata": {
        "id": "HYNVjZ5ijgNB"
      }
    },
    {
      "cell_type": "code",
      "source": [
        "model_string = 'gpt2'\n",
        "\n",
        "model = transformers.GPT2LMHeadModel.from_pretrained(model_string)\n",
        "tokenizer = transformers.GPT2Tokenizer.from_pretrained(model_string)\n",
        "\n",
        "model.eval()\n",
        "for p in model.parameters():\n",
        "  p.requires_grad = False"
      ],
      "metadata": {
        "id": "i9eHzX-_OjGQ"
      },
      "execution_count": 5,
      "outputs": []
    },
    {
      "cell_type": "code",
      "source": [
        "top_p = 0.90\n",
        "epsilon = 0.0006\n",
        "eta = 0.002\n",
        "max_length: 512\n",
        "\n",
        "topp_warper = TopPLogitsWarper(top_p)\n",
        "eta_warper = EntropyWarper(eta)\n",
        "epsilon_warper = EpsilonWarper(epsilon)"
      ],
      "metadata": {
        "id": "6Q6oEUlOM_v9"
      },
      "execution_count": 6,
      "outputs": []
    },
    {
      "cell_type": "code",
      "source": [
        "def report_truncation(string):\n",
        "  gold_input_ids = tokenizer(string, return_tensors='pt')['input_ids'][:,:]\n",
        "  model_outputs = model(input_ids=gold_input_ids)\n",
        "  logits = model_outputs.logits\n",
        "  index = gold_input_ids.size()[-1]-1\n",
        "  last_word_logits = logits[:,index-1,:]\n",
        "  unwarped_probs = torch.softmax(last_word_logits, dim=-1)\n",
        "  orig_entropy = torch.distributions.Categorical(probs=unwarped_probs).entropy()\n",
        "  plot(gold_input_ids[0,:index], topp_warper, epsilon_warper, eta_warper, orig_entropy, unwarped_probs, last_word_logits)"
      ],
      "metadata": {
        "id": "G1369PUtRRQw"
      },
      "execution_count": 7,
      "outputs": []
    },
    {
      "cell_type": "markdown",
      "source": [
        "### Change stuff here!\n",
        "\n",
        "Minimally, change the `evaluation_string` variable to the text you want to test.\n",
        "\n",
        "The model's distribution over the last word will be evaluated, so we use a placeholder (here, \"X\"). In the example \"My name X\", the distribution over words following \"My name\" will be evaluated."
      ],
      "metadata": {
        "id": "dQl98HxlgFA2"
      }
    },
    {
      "cell_type": "code",
      "source": [
        "evaluation_string =  '<|endoftext|> My name X', # Modify me!\n",
        "\n",
        "report_truncation(evaluation_string)\n",
        "\n",
        "# Uncomment if you want to download\n",
        "#from google.colab import files\n",
        "#files.download('truncation.png') "
      ],
      "metadata": {
        "colab": {
          "base_uri": "https://localhost:8080/",
          "height": 634
        },
        "id": "h7UYSO_1UACm",
        "outputId": "54aa3933-9f21-4fef-a0cf-2a3c3e97559f"
      },
      "execution_count": 8,
      "outputs": [
        {
          "output_type": "stream",
          "name": "stderr",
          "text": [
            "<ipython-input-4-ec7910a6e085>:54: UserWarning: Tight layout not applied. The bottom and top margins cannot be made large enough to accommodate all axes decorations. \n",
            "  plt.tight_layout()\n"
          ]
        },
        {
          "output_type": "display_data",
          "data": {
            "text/plain": [
              "<Figure size 432x288 with 0 Axes>"
            ]
          },
          "metadata": {}
        },
        {
          "output_type": "display_data",
          "data": {
            "text/plain": [
              "<Figure size 460.8x230.4 with 1 Axes>"
            ],
            "image/png": "[encoded data removed]"
          },
          "metadata": {
            "needs_background": "light"
          }
        }
      ]
    }
  ]
}